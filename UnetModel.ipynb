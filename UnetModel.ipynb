{
  "nbformat": 4,
  "nbformat_minor": 0,
  "metadata": {
    "colab": {
      "provenance": [],
      "gpuType": "T4",
      "authorship_tag": "ABX9TyNlqFu39SPfkFK9pQZ3AvlN",
      "include_colab_link": true
    },
    "kernelspec": {
      "name": "python3",
      "display_name": "Python 3"
    },
    "language_info": {
      "name": "python"
    },
    "accelerator": "GPU",
    "widgets": {
      "application/vnd.jupyter.widget-state+json": {
        "14bbcdd2b3694122bddf1cf321394a0d": {
          "model_module": "@jupyter-widgets/controls",
          "model_name": "HBoxModel",
          "model_module_version": "1.5.0",
          "state": {
            "_dom_classes": [],
            "_model_module": "@jupyter-widgets/controls",
            "_model_module_version": "1.5.0",
            "_model_name": "HBoxModel",
            "_view_count": null,
            "_view_module": "@jupyter-widgets/controls",
            "_view_module_version": "1.5.0",
            "_view_name": "HBoxView",
            "box_style": "",
            "children": [
              "IPY_MODEL_d319556f99bf4dd2b447902e07f429c7",
              "IPY_MODEL_7b783bb8eefb4c358f2b92d04bab6682",
              "IPY_MODEL_1eaf1286872542ecaff13e9de5ce94c0"
            ],
            "layout": "IPY_MODEL_158c382d078143429a57feee377c374e"
          }
        },
        "d319556f99bf4dd2b447902e07f429c7": {
          "model_module": "@jupyter-widgets/controls",
          "model_name": "HTMLModel",
          "model_module_version": "1.5.0",
          "state": {
            "_dom_classes": [],
            "_model_module": "@jupyter-widgets/controls",
            "_model_module_version": "1.5.0",
            "_model_name": "HTMLModel",
            "_view_count": null,
            "_view_module": "@jupyter-widgets/controls",
            "_view_module_version": "1.5.0",
            "_view_name": "HTMLView",
            "description": "",
            "description_tooltip": null,
            "layout": "IPY_MODEL_f55e41f36dad4a4eb71da8f40efe0967",
            "placeholder": "​",
            "style": "IPY_MODEL_506182dd7f8d4fc7a75b1a420e24230c",
            "value": "100%"
          }
        },
        "7b783bb8eefb4c358f2b92d04bab6682": {
          "model_module": "@jupyter-widgets/controls",
          "model_name": "FloatProgressModel",
          "model_module_version": "1.5.0",
          "state": {
            "_dom_classes": [],
            "_model_module": "@jupyter-widgets/controls",
            "_model_module_version": "1.5.0",
            "_model_name": "FloatProgressModel",
            "_view_count": null,
            "_view_module": "@jupyter-widgets/controls",
            "_view_module_version": "1.5.0",
            "_view_name": "ProgressView",
            "bar_style": "success",
            "description": "",
            "description_tooltip": null,
            "layout": "IPY_MODEL_b77eaea32ea147ad959f7cb153ba8cf7",
            "max": 87319819,
            "min": 0,
            "orientation": "horizontal",
            "style": "IPY_MODEL_a9028aacc29d470398d51d56b900befe",
            "value": 87319819
          }
        },
        "1eaf1286872542ecaff13e9de5ce94c0": {
          "model_module": "@jupyter-widgets/controls",
          "model_name": "HTMLModel",
          "model_module_version": "1.5.0",
          "state": {
            "_dom_classes": [],
            "_model_module": "@jupyter-widgets/controls",
            "_model_module_version": "1.5.0",
            "_model_name": "HTMLModel",
            "_view_count": null,
            "_view_module": "@jupyter-widgets/controls",
            "_view_module_version": "1.5.0",
            "_view_name": "HTMLView",
            "description": "",
            "description_tooltip": null,
            "layout": "IPY_MODEL_0c044bb98a0a4a89b13145718dca2c48",
            "placeholder": "​",
            "style": "IPY_MODEL_c2e391180cb140d09b3b37adbf622eff",
            "value": " 83.3M/83.3M [00:00&lt;00:00, 223MB/s]"
          }
        },
        "158c382d078143429a57feee377c374e": {
          "model_module": "@jupyter-widgets/base",
          "model_name": "LayoutModel",
          "model_module_version": "1.2.0",
          "state": {
            "_model_module": "@jupyter-widgets/base",
            "_model_module_version": "1.2.0",
            "_model_name": "LayoutModel",
            "_view_count": null,
            "_view_module": "@jupyter-widgets/base",
            "_view_module_version": "1.2.0",
            "_view_name": "LayoutView",
            "align_content": null,
            "align_items": null,
            "align_self": null,
            "border": null,
            "bottom": null,
            "display": null,
            "flex": null,
            "flex_flow": null,
            "grid_area": null,
            "grid_auto_columns": null,
            "grid_auto_flow": null,
            "grid_auto_rows": null,
            "grid_column": null,
            "grid_gap": null,
            "grid_row": null,
            "grid_template_areas": null,
            "grid_template_columns": null,
            "grid_template_rows": null,
            "height": null,
            "justify_content": null,
            "justify_items": null,
            "left": null,
            "margin": null,
            "max_height": null,
            "max_width": null,
            "min_height": null,
            "min_width": null,
            "object_fit": null,
            "object_position": null,
            "order": null,
            "overflow": null,
            "overflow_x": null,
            "overflow_y": null,
            "padding": null,
            "right": null,
            "top": null,
            "visibility": null,
            "width": null
          }
        },
        "f55e41f36dad4a4eb71da8f40efe0967": {
          "model_module": "@jupyter-widgets/base",
          "model_name": "LayoutModel",
          "model_module_version": "1.2.0",
          "state": {
            "_model_module": "@jupyter-widgets/base",
            "_model_module_version": "1.2.0",
            "_model_name": "LayoutModel",
            "_view_count": null,
            "_view_module": "@jupyter-widgets/base",
            "_view_module_version": "1.2.0",
            "_view_name": "LayoutView",
            "align_content": null,
            "align_items": null,
            "align_self": null,
            "border": null,
            "bottom": null,
            "display": null,
            "flex": null,
            "flex_flow": null,
            "grid_area": null,
            "grid_auto_columns": null,
            "grid_auto_flow": null,
            "grid_auto_rows": null,
            "grid_column": null,
            "grid_gap": null,
            "grid_row": null,
            "grid_template_areas": null,
            "grid_template_columns": null,
            "grid_template_rows": null,
            "height": null,
            "justify_content": null,
            "justify_items": null,
            "left": null,
            "margin": null,
            "max_height": null,
            "max_width": null,
            "min_height": null,
            "min_width": null,
            "object_fit": null,
            "object_position": null,
            "order": null,
            "overflow": null,
            "overflow_x": null,
            "overflow_y": null,
            "padding": null,
            "right": null,
            "top": null,
            "visibility": null,
            "width": null
          }
        },
        "506182dd7f8d4fc7a75b1a420e24230c": {
          "model_module": "@jupyter-widgets/controls",
          "model_name": "DescriptionStyleModel",
          "model_module_version": "1.5.0",
          "state": {
            "_model_module": "@jupyter-widgets/controls",
            "_model_module_version": "1.5.0",
            "_model_name": "DescriptionStyleModel",
            "_view_count": null,
            "_view_module": "@jupyter-widgets/base",
            "_view_module_version": "1.2.0",
            "_view_name": "StyleView",
            "description_width": ""
          }
        },
        "b77eaea32ea147ad959f7cb153ba8cf7": {
          "model_module": "@jupyter-widgets/base",
          "model_name": "LayoutModel",
          "model_module_version": "1.2.0",
          "state": {
            "_model_module": "@jupyter-widgets/base",
            "_model_module_version": "1.2.0",
            "_model_name": "LayoutModel",
            "_view_count": null,
            "_view_module": "@jupyter-widgets/base",
            "_view_module_version": "1.2.0",
            "_view_name": "LayoutView",
            "align_content": null,
            "align_items": null,
            "align_self": null,
            "border": null,
            "bottom": null,
            "display": null,
            "flex": null,
            "flex_flow": null,
            "grid_area": null,
            "grid_auto_columns": null,
            "grid_auto_flow": null,
            "grid_auto_rows": null,
            "grid_column": null,
            "grid_gap": null,
            "grid_row": null,
            "grid_template_areas": null,
            "grid_template_columns": null,
            "grid_template_rows": null,
            "height": null,
            "justify_content": null,
            "justify_items": null,
            "left": null,
            "margin": null,
            "max_height": null,
            "max_width": null,
            "min_height": null,
            "min_width": null,
            "object_fit": null,
            "object_position": null,
            "order": null,
            "overflow": null,
            "overflow_x": null,
            "overflow_y": null,
            "padding": null,
            "right": null,
            "top": null,
            "visibility": null,
            "width": null
          }
        },
        "a9028aacc29d470398d51d56b900befe": {
          "model_module": "@jupyter-widgets/controls",
          "model_name": "ProgressStyleModel",
          "model_module_version": "1.5.0",
          "state": {
            "_model_module": "@jupyter-widgets/controls",
            "_model_module_version": "1.5.0",
            "_model_name": "ProgressStyleModel",
            "_view_count": null,
            "_view_module": "@jupyter-widgets/base",
            "_view_module_version": "1.2.0",
            "_view_name": "StyleView",
            "bar_color": null,
            "description_width": ""
          }
        },
        "0c044bb98a0a4a89b13145718dca2c48": {
          "model_module": "@jupyter-widgets/base",
          "model_name": "LayoutModel",
          "model_module_version": "1.2.0",
          "state": {
            "_model_module": "@jupyter-widgets/base",
            "_model_module_version": "1.2.0",
            "_model_name": "LayoutModel",
            "_view_count": null,
            "_view_module": "@jupyter-widgets/base",
            "_view_module_version": "1.2.0",
            "_view_name": "LayoutView",
            "align_content": null,
            "align_items": null,
            "align_self": null,
            "border": null,
            "bottom": null,
            "display": null,
            "flex": null,
            "flex_flow": null,
            "grid_area": null,
            "grid_auto_columns": null,
            "grid_auto_flow": null,
            "grid_auto_rows": null,
            "grid_column": null,
            "grid_gap": null,
            "grid_row": null,
            "grid_template_areas": null,
            "grid_template_columns": null,
            "grid_template_rows": null,
            "height": null,
            "justify_content": null,
            "justify_items": null,
            "left": null,
            "margin": null,
            "max_height": null,
            "max_width": null,
            "min_height": null,
            "min_width": null,
            "object_fit": null,
            "object_position": null,
            "order": null,
            "overflow": null,
            "overflow_x": null,
            "overflow_y": null,
            "padding": null,
            "right": null,
            "top": null,
            "visibility": null,
            "width": null
          }
        },
        "c2e391180cb140d09b3b37adbf622eff": {
          "model_module": "@jupyter-widgets/controls",
          "model_name": "DescriptionStyleModel",
          "model_module_version": "1.5.0",
          "state": {
            "_model_module": "@jupyter-widgets/controls",
            "_model_module_version": "1.5.0",
            "_model_name": "DescriptionStyleModel",
            "_view_count": null,
            "_view_module": "@jupyter-widgets/base",
            "_view_module_version": "1.2.0",
            "_view_name": "StyleView",
            "description_width": ""
          }
        }
      }
    }
  },
  "cells": [
    {
      "cell_type": "markdown",
      "metadata": {
        "id": "view-in-github",
        "colab_type": "text"
      },
      "source": [
        "<a href=\"https://colab.research.google.com/github/andresf9824/TFM/blob/main/UnetModel.ipynb\" target=\"_parent\"><img src=\"https://colab.research.google.com/assets/colab-badge.svg\" alt=\"Open In Colab\"/></a>"
      ]
    },
    {
      "cell_type": "code",
      "source": [
        "from fastai.basics import *\n",
        "from fastai.vision import models\n",
        "from fastai.vision.all import *\n",
        "from fastai.metrics import *\n",
        "from fastai.data.all import *\n",
        "from fastai.callback import *\n",
        "\n",
        "# SemTorch\n",
        "from semtorch import get_segmentation_learner\n",
        "\n",
        "from pathlib import Path\n",
        "import random\n",
        "\n",
        "# Commented out IPython magic to ensure Python compatibility.\n",
        "# %matplotlib inline\n",
        "import numpy as np\n",
        "import torch\n",
        "torch.cuda.set_device(0)\n",
        "\n",
        "\"\"\"Function por stablishing the seed for reproducibility\"\"\"\n",
        "\n",
        "number_of_the_seed = 2020\n",
        "\n",
        "random.seed(number_of_the_seed)\n",
        "set_seed(number_of_the_seed)\n",
        "torch.backends.cudnn.deterministic = True\n",
        "torch.backends.cudnn.benchmark = False\n"
      ],
      "metadata": {
        "id": "bATbOQ7KOtvH"
      },
      "execution_count": 22,
      "outputs": []
    },
    {
      "cell_type": "code",
      "source": [
        "random.seed(number_of_the_seed)\n",
        "set_seed(number_of_the_seed)\n",
        "torch.backends.cudnn.deterministic = True\n",
        "torch.backends.cudnn.benchmark = False"
      ],
      "metadata": {
        "id": "TkFuCFupNDjy"
      },
      "execution_count": 24,
      "outputs": []
    },
    {
      "cell_type": "code",
      "source": [
        "import os\n",
        "\n",
        "nombre_del_archivo = 'Umbralizadas.rar'\n",
        "os.system(f'unrar x {nombre_del_archivo}')\n"
      ],
      "metadata": {
        "id": "kU6OE-0i0G2x",
        "colab": {
          "base_uri": "https://localhost:8080/"
        },
        "outputId": "a61a3065-1e07-4a30-b466-7b896ca909ba"
      },
      "execution_count": 25,
      "outputs": [
        {
          "output_type": "execute_result",
          "data": {
            "text/plain": [
              "65280"
            ]
          },
          "metadata": {},
          "execution_count": 25
        }
      ]
    },
    {
      "cell_type": "code",
      "source": [
        "path = Path(\"Umbralizadas/\")\n",
        "path_images = path/\"Images\"\n",
        "path_labels = path/\"Labels\""
      ],
      "metadata": {
        "id": "K05Niaf03NkC"
      },
      "execution_count": 26,
      "outputs": []
    },
    {
      "cell_type": "code",
      "source": [
        "test_name = \"test\""
      ],
      "metadata": {
        "id": "a6p_4X5A3Rea"
      },
      "execution_count": 27,
      "outputs": []
    },
    {
      "cell_type": "code",
      "source": [
        "def get_y_fn (x):\n",
        "    return Path(str(x).replace(\"Images\",\"Labels\").replace(\".jpg\",\".png\"))\n"
      ],
      "metadata": {
        "id": "qhnZK2DE3ZOz"
      },
      "execution_count": 28,
      "outputs": []
    },
    {
      "cell_type": "code",
      "source": [
        "codes = np.loadtxt(path/'codes.txt', dtype=str)"
      ],
      "metadata": {
        "id": "xfRVEq7p3c-K"
      },
      "execution_count": 29,
      "outputs": []
    },
    {
      "cell_type": "code",
      "source": [
        "codes"
      ],
      "metadata": {
        "colab": {
          "base_uri": "https://localhost:8080/"
        },
        "id": "QQkFly6n3gWi",
        "outputId": "ad8436ab-33bd-42cb-a732-fa639003287e"
      },
      "execution_count": 30,
      "outputs": [
        {
          "output_type": "execute_result",
          "data": {
            "text/plain": [
              "array(['Background', 'Bacteria'], dtype='<U10')"
            ]
          },
          "metadata": {},
          "execution_count": 30
        }
      ]
    },
    {
      "cell_type": "code",
      "source": [
        "def ParentSplitter(x):\n",
        "    return Path(x).parent.name==test_name"
      ],
      "metadata": {
        "id": "ZKQmlyKf6e-H"
      },
      "execution_count": 31,
      "outputs": []
    },
    {
      "cell_type": "code",
      "source": [
        "name2id = {v:k for k,v in enumerate(codes)}\n",
        "print(name2id)\n",
        "void_code = name2id['Bacteria']"
      ],
      "metadata": {
        "colab": {
          "base_uri": "https://localhost:8080/"
        },
        "id": "0L7e0lhqiuDZ",
        "outputId": "2cb2f1fe-2b17-4d3b-e0ab-ce8f24cbfd35"
      },
      "execution_count": 32,
      "outputs": [
        {
          "output_type": "stream",
          "name": "stdout",
          "text": [
            "{'Background': 0, 'Bacteria': 1}\n"
          ]
        }
      ]
    },
    {
      "cell_type": "code",
      "source": [
        "def tumour(input, target):\n",
        "    target = target.squeeze(1)\n",
        "    mask = target != void_code\n",
        "    return (input.argmax(dim=1)[mask]==target[mask]).float().mean()"
      ],
      "metadata": {
        "id": "_-IyMRe3ix54"
      },
      "execution_count": 33,
      "outputs": []
    },
    {
      "cell_type": "code",
      "source": [
        "monitor_training=\"valid_loss\"\n",
        "comp_training=np.less"
      ],
      "metadata": {
        "id": "loYseozDPKrp"
      },
      "execution_count": 34,
      "outputs": []
    },
    {
      "cell_type": "code",
      "source": [
        "monitor_evaluating=\"dice\"\n",
        "comp_evaluating=np.greater\n",
        "\n",
        "patience=3\n"
      ],
      "metadata": {
        "id": "6iMd6ixgi0rY"
      },
      "execution_count": 35,
      "outputs": []
    },
    {
      "cell_type": "code",
      "source": [
        "from albumentations import (\n",
        "    Compose,\n",
        "    OneOf,\n",
        "    ElasticTransform,\n",
        "    GridDistortion,\n",
        "    OpticalDistortion,\n",
        "    Flip,\n",
        "    VerticalFlip,\n",
        "    Rotate,\n",
        "    Transpose,\n",
        "    CLAHE,\n",
        "    ShiftScaleRotate\n",
        ")\n",
        "\n",
        "class SegmentationAlbumentationsTransform(ItemTransform):\n",
        "    split_idx = 0\n",
        "    def __init__(self, aug):\n",
        "        self.aug = aug\n",
        "    def encodes(self, x):\n",
        "        img,mask = x\n",
        "        aug = self.aug(image=np.array(img), mask=np.array(mask))\n",
        "        return PILImage.create(aug[\"image\"]), PILMask.create(aug[\"mask\"])\n",
        "\n",
        "transformPipeline=Compose([\n",
        "                        Flip(p=0.5),\n",
        "                        VerticalFlip(p=0.5),\n",
        "                        Transpose(p=0.5),\n",
        "                        Rotate(p=0.40,limit=10)\n",
        "                    ],p=1)\n",
        "\n",
        "transformPipeline=SegmentationAlbumentationsTransform(transformPipeline)\n",
        "\n",
        "class TargetMaskConvertTransform(ItemTransform):\n",
        "    def __init__(self):\n",
        "        pass\n",
        "    def encodes(self, x):\n",
        "        img,mask = x\n",
        "\n",
        "        #Convert to array\n",
        "        mask = np.array(mask)\n",
        "\n",
        "        # Change 255 for 1\n",
        "        mask[mask==255]=1\n",
        "\n",
        "        # Back to PILMask\n",
        "        mask = PILMask.create(mask)\n",
        "        return img, mask\n"
      ],
      "metadata": {
        "id": "QAmteuSui58c"
      },
      "execution_count": 13,
      "outputs": []
    },
    {
      "cell_type": "code",
      "source": [
        "def segmentron_splitter(model):\n",
        "    return [params(model.backbone), params(model.head)]\n"
      ],
      "metadata": {
        "id": "tAxfTk98i9q6"
      },
      "execution_count": 14,
      "outputs": []
    },
    {
      "cell_type": "code",
      "source": [
        "manual_name=\"train\"\n",
        "\n",
        "path_manual_img = path_images\n",
        "path_manual_lbl = path_labels\n",
        "\n",
        "fnames_manual = get_image_files(path_manual_img)\n",
        "lbl_names_manual = get_image_files(path_manual_lbl)\n",
        "\n",
        "size = 1002\n",
        "bs = 1\n"
      ],
      "metadata": {
        "id": "Goye1F1HjA84"
      },
      "execution_count": 15,
      "outputs": []
    },
    {
      "cell_type": "code",
      "source": [
        "manual = DataBlock(blocks=(ImageBlock, MaskBlock(codes)),\n",
        "                   get_items=partial(get_image_files,folders=['train','test']),\n",
        "                   get_y=get_y_fn,\n",
        "                   splitter=FuncSplitter(ParentSplitter),\n",
        "                   item_tfms=[Resize((size,size)), TargetMaskConvertTransform()],\n",
        "                   batch_tfms=Normalize.from_stats(*imagenet_stats)\n",
        "                  )\n",
        "manual.summary(path_images)\n",
        "dls = manual.dataloaders(path_images,bs=bs)\n",
        "\n"
      ],
      "metadata": {
        "id": "2ez8_N1qjEbY",
        "colab": {
          "base_uri": "https://localhost:8080/"
        },
        "outputId": "ada76bfd-858d-4ff2-d8ab-a42a4e91c3f1"
      },
      "execution_count": 36,
      "outputs": [
        {
          "output_type": "stream",
          "name": "stdout",
          "text": [
            "Setting-up type transforms pipelines\n",
            "Collecting items from Umbralizadas/Images\n",
            "Found 757 items\n",
            "2 datasets of sizes 444,313\n",
            "Setting up Pipeline: PILBase.create\n",
            "Setting up Pipeline: get_y_fn -> PILBase.create\n",
            "\n",
            "Building one sample\n",
            "  Pipeline: PILBase.create\n",
            "    starting from\n",
            "      Umbralizadas/Images/train/G99c-0.3.jpg\n",
            "    applying PILBase.create gives\n",
            "      PILImage mode=RGB size=1027x1014\n",
            "  Pipeline: get_y_fn -> PILBase.create\n",
            "    starting from\n",
            "      Umbralizadas/Images/train/G99c-0.3.jpg\n",
            "    applying get_y_fn gives\n",
            "      Umbralizadas/Labels/train/G99c-0.3.png\n",
            "    applying PILBase.create gives\n",
            "      PILMask mode=L size=1027x1014\n",
            "\n",
            "Final sample: (PILImage mode=RGB size=1027x1014, PILMask mode=L size=1027x1014)\n",
            "\n",
            "\n",
            "Collecting items from Umbralizadas/Images\n",
            "Found 757 items\n",
            "2 datasets of sizes 444,313\n",
            "Setting up Pipeline: PILBase.create\n",
            "Setting up Pipeline: get_y_fn -> PILBase.create\n",
            "Setting up after_item: Pipeline: AddMaskCodes -> TargetMaskConvertTransform -> Resize -- {'size': (1002, 1002), 'method': 'crop', 'pad_mode': 'reflection', 'resamples': (<Resampling.BILINEAR: 2>, <Resampling.NEAREST: 0>), 'p': 1.0} -> ToTensor\n",
            "Setting up before_batch: Pipeline: \n",
            "Setting up after_batch: Pipeline: IntToFloatTensor -- {'div': 255.0, 'div_mask': 1} -> Normalize -- {'mean': tensor([[[[0.4850]],\n",
            "\n",
            "         [[0.4560]],\n",
            "\n",
            "         [[0.4060]]]], device='cuda:0'), 'std': tensor([[[[0.2290]],\n",
            "\n",
            "         [[0.2240]],\n",
            "\n",
            "         [[0.2250]]]], device='cuda:0'), 'axes': (0, 2, 3)}\n",
            "\n",
            "Building one batch\n",
            "Applying item_tfms to the first sample:\n",
            "  Pipeline: AddMaskCodes -> TargetMaskConvertTransform -> Resize -- {'size': (1002, 1002), 'method': 'crop', 'pad_mode': 'reflection', 'resamples': (<Resampling.BILINEAR: 2>, <Resampling.NEAREST: 0>), 'p': 1.0} -> ToTensor\n",
            "    starting from\n",
            "      (PILImage mode=RGB size=1027x1014, PILMask mode=L size=1027x1014)\n",
            "    applying AddMaskCodes gives\n",
            "      (PILImage mode=RGB size=1027x1014, PILMask mode=L size=1027x1014)\n",
            "    applying TargetMaskConvertTransform gives\n",
            "      (PILImage mode=RGB size=1027x1014, PILMask mode=L size=1027x1014)\n",
            "    applying Resize -- {'size': (1002, 1002), 'method': 'crop', 'pad_mode': 'reflection', 'resamples': (<Resampling.BILINEAR: 2>, <Resampling.NEAREST: 0>), 'p': 1.0} gives\n",
            "      (PILImage mode=RGB size=1002x1002, PILMask mode=L size=1002x1002)\n",
            "    applying ToTensor gives\n",
            "      (TensorImage of size 3x1002x1002, TensorMask of size 1002x1002)\n",
            "\n",
            "Adding the next 3 samples\n",
            "\n",
            "No before_batch transform to apply\n",
            "\n",
            "Collating items in a batch\n",
            "\n",
            "Applying batch_tfms to the batch built\n",
            "  Pipeline: IntToFloatTensor -- {'div': 255.0, 'div_mask': 1} -> Normalize -- {'mean': tensor([[[[0.4850]],\n",
            "\n",
            "         [[0.4560]],\n",
            "\n",
            "         [[0.4060]]]], device='cuda:0'), 'std': tensor([[[[0.2290]],\n",
            "\n",
            "         [[0.2240]],\n",
            "\n",
            "         [[0.2250]]]], device='cuda:0'), 'axes': (0, 2, 3)}\n",
            "    starting from\n",
            "      (TensorImage of size 4x3x1002x1002, TensorMask of size 4x1002x1002)\n",
            "    applying IntToFloatTensor -- {'div': 255.0, 'div_mask': 1} gives\n",
            "      (TensorImage of size 4x3x1002x1002, TensorMask of size 4x1002x1002)\n",
            "    applying Normalize -- {'mean': tensor([[[[0.4850]],\n",
            "\n",
            "         [[0.4560]],\n",
            "\n",
            "         [[0.4060]]]], device='cuda:0'), 'std': tensor([[[[0.2290]],\n",
            "\n",
            "         [[0.2240]],\n",
            "\n",
            "         [[0.2250]]]], device='cuda:0'), 'axes': (0, 2, 3)} gives\n",
            "      (TensorImage of size 4x3x1002x1002, TensorMask of size 4x1002x1002)\n"
          ]
        }
      ]
    },
    {
      "cell_type": "code",
      "source": [
        "\n",
        "fname=\"unetModel\"\n",
        "\n",
        "callbacksFitBeforeUnfreeze = [\n",
        "    # ShowGraphCallback(),\n",
        "    EarlyStoppingCallback(monitor=monitor_training,comp=comp_training, patience=patience),\n",
        "    SaveModelCallback(monitor=monitor_training,comp=comp_training,every_epoch=False,fname=fname)\n",
        "]\n",
        "\n",
        "learn = get_segmentation_learner(dls=dls, number_classes=2, segmentation_type=\"Semantic Segmentation\",\n",
        "                                 architecture_name=\"unet\", backbone_name=\"resnet34\",\n",
        "                                 metrics=[tumour, Dice(), JaccardCoeff()],wd=1e-3,\n",
        "                                 pretrained=True, normalize=True,cbs=callbacksFitBeforeUnfreeze).to_fp16()\n",
        "learn.lr_find() # find learning rate\n",
        "#learn.recorder\n",
        "learn.freeze() # Freezing the backbone\n",
        "learn.fine_tune(15,freeze_epochs=2)"
      ],
      "metadata": {
        "id": "4fXJBl3FjK0C",
        "colab": {
          "base_uri": "https://localhost:8080/",
          "height": 1000,
          "referenced_widgets": [
            "14bbcdd2b3694122bddf1cf321394a0d",
            "d319556f99bf4dd2b447902e07f429c7",
            "7b783bb8eefb4c358f2b92d04bab6682",
            "1eaf1286872542ecaff13e9de5ce94c0",
            "158c382d078143429a57feee377c374e",
            "f55e41f36dad4a4eb71da8f40efe0967",
            "506182dd7f8d4fc7a75b1a420e24230c",
            "b77eaea32ea147ad959f7cb153ba8cf7",
            "a9028aacc29d470398d51d56b900befe",
            "0c044bb98a0a4a89b13145718dca2c48",
            "c2e391180cb140d09b3b37adbf622eff"
          ]
        },
        "outputId": "c009abbc-6ced-485f-db2c-06c4c5e9e82b"
      },
      "execution_count": 37,
      "outputs": [
        {
          "metadata": {
            "tags": null
          },
          "name": "stderr",
          "output_type": "stream",
          "text": [
            "Downloading: \"https://download.pytorch.org/models/resnet34-b627a593.pth\" to /root/.cache/torch/hub/checkpoints/resnet34-b627a593.pth\n"
          ]
        },
        {
          "data": {
            "application/vnd.jupyter.widget-view+json": {
              "model_id": "14bbcdd2b3694122bddf1cf321394a0d",
              "version_major": 2,
              "version_minor": 0
            },
            "text/plain": [
              "  0%|          | 0.00/83.3M [00:00<?, ?B/s]"
            ]
          },
          "metadata": {},
          "output_type": "display_data"
        },
        {
          "data": {
            "text/html": [
              "\n",
              "<style>\n",
              "    /* Turns off some styling */\n",
              "    progress {\n",
              "        /* gets rid of default border in Firefox and Opera. */\n",
              "        border: none;\n",
              "        /* Needs to be in here for Safari polyfill so background images work as expected. */\n",
              "        background-size: auto;\n",
              "    }\n",
              "    progress:not([value]), progress:not([value])::-webkit-progress-bar {\n",
              "        background: repeating-linear-gradient(45deg, #7e7e7e, #7e7e7e 10px, #5c5c5c 10px, #5c5c5c 20px);\n",
              "    }\n",
              "    .progress-bar-interrupted, .progress-bar-interrupted::-webkit-progress-bar {\n",
              "        background: #F44336;\n",
              "    }\n",
              "</style>\n"
            ],
            "text/plain": [
              "<IPython.core.display.HTML object>"
            ]
          },
          "metadata": {},
          "output_type": "display_data"
        },
        {
          "data": {
            "text/html": [],
            "text/plain": [
              "<IPython.core.display.HTML object>"
            ]
          },
          "metadata": {},
          "output_type": "display_data"
        },
        {
          "data": {
            "text/html": [
              "\n",
              "<style>\n",
              "    /* Turns off some styling */\n",
              "    progress {\n",
              "        /* gets rid of default border in Firefox and Opera. */\n",
              "        border: none;\n",
              "        /* Needs to be in here for Safari polyfill so background images work as expected. */\n",
              "        background-size: auto;\n",
              "    }\n",
              "    progress:not([value]), progress:not([value])::-webkit-progress-bar {\n",
              "        background: repeating-linear-gradient(45deg, #7e7e7e, #7e7e7e 10px, #5c5c5c 10px, #5c5c5c 20px);\n",
              "    }\n",
              "    .progress-bar-interrupted, .progress-bar-interrupted::-webkit-progress-bar {\n",
              "        background: #F44336;\n",
              "    }\n",
              "</style>\n"
            ],
            "text/plain": [
              "<IPython.core.display.HTML object>"
            ]
          },
          "metadata": {},
          "output_type": "display_data"
        },
        {
          "data": {
            "text/html": [
              "<table border=\"1\" class=\"dataframe\">\n",
              "  <thead>\n",
              "    <tr style=\"text-align: left;\">\n",
              "      <th>epoch</th>\n",
              "      <th>train_loss</th>\n",
              "      <th>valid_loss</th>\n",
              "      <th>tumour</th>\n",
              "      <th>dice</th>\n",
              "      <th>jaccard_coeff</th>\n",
              "      <th>time</th>\n",
              "    </tr>\n",
              "  </thead>\n",
              "  <tbody>\n",
              "    <tr>\n",
              "      <td>0</td>\n",
              "      <td>0.241954</td>\n",
              "      <td>0.342720</td>\n",
              "      <td>0.999589</td>\n",
              "      <td>0.005710</td>\n",
              "      <td>0.002863</td>\n",
              "      <td>04:13</td>\n",
              "    </tr>\n",
              "    <tr>\n",
              "      <td>1</td>\n",
              "      <td>0.425010</td>\n",
              "      <td>0.311292</td>\n",
              "      <td>0.967776</td>\n",
              "      <td>0.611308</td>\n",
              "      <td>0.440205</td>\n",
              "      <td>04:08</td>\n",
              "    </tr>\n",
              "  </tbody>\n",
              "</table>"
            ],
            "text/plain": [
              "<IPython.core.display.HTML object>"
            ]
          },
          "metadata": {},
          "output_type": "display_data"
        },
        {
          "metadata": {
            "tags": null
          },
          "name": "stdout",
          "output_type": "stream",
          "text": [
            "Better model found at epoch 0 with valid_loss value: 0.34272024035453796.\n",
            "Better model found at epoch 1 with valid_loss value: 0.31129154562950134.\n"
          ]
        },
        {
          "data": {
            "text/html": [
              "\n",
              "<style>\n",
              "    /* Turns off some styling */\n",
              "    progress {\n",
              "        /* gets rid of default border in Firefox and Opera. */\n",
              "        border: none;\n",
              "        /* Needs to be in here for Safari polyfill so background images work as expected. */\n",
              "        background-size: auto;\n",
              "    }\n",
              "    progress:not([value]), progress:not([value])::-webkit-progress-bar {\n",
              "        background: repeating-linear-gradient(45deg, #7e7e7e, #7e7e7e 10px, #5c5c5c 10px, #5c5c5c 20px);\n",
              "    }\n",
              "    .progress-bar-interrupted, .progress-bar-interrupted::-webkit-progress-bar {\n",
              "        background: #F44336;\n",
              "    }\n",
              "</style>\n"
            ],
            "text/plain": [
              "<IPython.core.display.HTML object>"
            ]
          },
          "metadata": {},
          "output_type": "display_data"
        },
        {
          "data": {
            "text/html": [
              "\n",
              "    <div>\n",
              "      <progress value='5' class='' max='15' style='width:300px; height:20px; vertical-align: middle;'></progress>\n",
              "      33.33% [5/15 20:42&lt;41:25]\n",
              "    </div>\n",
              "    \n",
              "<table border=\"1\" class=\"dataframe\">\n",
              "  <thead>\n",
              "    <tr style=\"text-align: left;\">\n",
              "      <th>epoch</th>\n",
              "      <th>train_loss</th>\n",
              "      <th>valid_loss</th>\n",
              "      <th>tumour</th>\n",
              "      <th>dice</th>\n",
              "      <th>jaccard_coeff</th>\n",
              "      <th>time</th>\n",
              "    </tr>\n",
              "  </thead>\n",
              "  <tbody>\n",
              "    <tr>\n",
              "      <td>0</td>\n",
              "      <td>0.253311</td>\n",
              "      <td>0.315837</td>\n",
              "      <td>0.963533</td>\n",
              "      <td>0.628081</td>\n",
              "      <td>0.457812</td>\n",
              "      <td>04:08</td>\n",
              "    </tr>\n",
              "    <tr>\n",
              "      <td>1</td>\n",
              "      <td>0.230261</td>\n",
              "      <td>0.324917</td>\n",
              "      <td>0.966909</td>\n",
              "      <td>0.616870</td>\n",
              "      <td>0.445995</td>\n",
              "      <td>04:07</td>\n",
              "    </tr>\n",
              "    <tr>\n",
              "      <td>2</td>\n",
              "      <td>0.310921</td>\n",
              "      <td>0.297604</td>\n",
              "      <td>0.967448</td>\n",
              "      <td>0.613431</td>\n",
              "      <td>0.442409</td>\n",
              "      <td>04:08</td>\n",
              "    </tr>\n",
              "    <tr>\n",
              "      <td>3</td>\n",
              "      <td>0.236697</td>\n",
              "      <td>0.333188</td>\n",
              "      <td>0.969192</td>\n",
              "      <td>0.619359</td>\n",
              "      <td>0.448602</td>\n",
              "      <td>04:09</td>\n",
              "    </tr>\n",
              "    <tr>\n",
              "      <td>4</td>\n",
              "      <td>0.323011</td>\n",
              "      <td>0.352641</td>\n",
              "      <td>0.966768</td>\n",
              "      <td>0.614326</td>\n",
              "      <td>0.443341</td>\n",
              "      <td>04:08</td>\n",
              "    </tr>\n",
              "  </tbody>\n",
              "</table><p>\n",
              "\n",
              "    <div>\n",
              "      <progress value='433' class='' max='444' style='width:300px; height:20px; vertical-align: middle;'></progress>\n",
              "      97.52% [433/444 03:08&lt;00:04 0.3080]\n",
              "    </div>\n",
              "    "
            ],
            "text/plain": [
              "<IPython.core.display.HTML object>"
            ]
          },
          "metadata": {},
          "output_type": "display_data"
        },
        {
          "metadata": {
            "tags": null
          },
          "name": "stdout",
          "output_type": "stream",
          "text": [
            "Better model found at epoch 0 with valid_loss value: 0.31583747267723083.\n",
            "Better model found at epoch 2 with valid_loss value: 0.29760393500328064.\n"
          ]
        },
        {
          "output_type": "display_data",
          "data": {
            "text/plain": [
              "<IPython.core.display.HTML object>"
            ],
            "text/html": [
              "<table border=\"1\" class=\"dataframe\">\n",
              "  <thead>\n",
              "    <tr style=\"text-align: left;\">\n",
              "      <th>epoch</th>\n",
              "      <th>train_loss</th>\n",
              "      <th>valid_loss</th>\n",
              "      <th>tumour</th>\n",
              "      <th>dice</th>\n",
              "      <th>jaccard_coeff</th>\n",
              "      <th>time</th>\n",
              "    </tr>\n",
              "  </thead>\n",
              "  <tbody>\n",
              "    <tr>\n",
              "      <td>0</td>\n",
              "      <td>0.253311</td>\n",
              "      <td>0.315837</td>\n",
              "      <td>0.963533</td>\n",
              "      <td>0.628081</td>\n",
              "      <td>0.457812</td>\n",
              "      <td>04:08</td>\n",
              "    </tr>\n",
              "    <tr>\n",
              "      <td>1</td>\n",
              "      <td>0.230261</td>\n",
              "      <td>0.324917</td>\n",
              "      <td>0.966909</td>\n",
              "      <td>0.616870</td>\n",
              "      <td>0.445995</td>\n",
              "      <td>04:07</td>\n",
              "    </tr>\n",
              "    <tr>\n",
              "      <td>2</td>\n",
              "      <td>0.310921</td>\n",
              "      <td>0.297604</td>\n",
              "      <td>0.967448</td>\n",
              "      <td>0.613431</td>\n",
              "      <td>0.442409</td>\n",
              "      <td>04:08</td>\n",
              "    </tr>\n",
              "    <tr>\n",
              "      <td>3</td>\n",
              "      <td>0.236697</td>\n",
              "      <td>0.333188</td>\n",
              "      <td>0.969192</td>\n",
              "      <td>0.619359</td>\n",
              "      <td>0.448602</td>\n",
              "      <td>04:09</td>\n",
              "    </tr>\n",
              "    <tr>\n",
              "      <td>4</td>\n",
              "      <td>0.323011</td>\n",
              "      <td>0.352641</td>\n",
              "      <td>0.966768</td>\n",
              "      <td>0.614326</td>\n",
              "      <td>0.443341</td>\n",
              "      <td>04:08</td>\n",
              "    </tr>\n",
              "    <tr>\n",
              "      <td>5</td>\n",
              "      <td>0.294719</td>\n",
              "      <td>0.338210</td>\n",
              "      <td>0.967681</td>\n",
              "      <td>0.614360</td>\n",
              "      <td>0.443377</td>\n",
              "      <td>04:08</td>\n",
              "    </tr>\n",
              "  </tbody>\n",
              "</table>"
            ]
          },
          "metadata": {}
        },
        {
          "output_type": "stream",
          "name": "stdout",
          "text": [
            "No improvement since epoch 2: early stopping\n"
          ]
        },
        {
          "output_type": "display_data",
          "data": {
            "text/plain": [
              "<Figure size 640x480 with 1 Axes>"
            ],
            "image/png": "[encoded data removed]"
          },
          "metadata": {}
        }
      ]
    }
  ]
}