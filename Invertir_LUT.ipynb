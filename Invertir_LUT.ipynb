{
  "nbformat": 4,
  "nbformat_minor": 0,
  "metadata": {
    "colab": {
      "provenance": [],
      "authorship_tag": "ABX9TyNPaD4Kpoz2CdUAuwJKxDGu",
      "include_colab_link": true
    },
    "kernelspec": {
      "name": "python3",
      "display_name": "Python 3"
    },
    "language_info": {
      "name": "python"
    }
  },
  "cells": [
    {
      "cell_type": "markdown",
      "metadata": {
        "id": "view-in-github",
        "colab_type": "text"
      },
      "source": [
        "<a href=\"https://colab.research.google.com/github/andresf9824/TFM/blob/main/Invertir_LUT.ipynb\" target=\"_parent\"><img src=\"https://colab.research.google.com/assets/colab-badge.svg\" alt=\"Open In Colab\"/></a>"
      ]
    },
    {
      "cell_type": "code",
      "execution_count": null,
      "metadata": {
        "id": "g74h2_Z71xgg"
      },
      "outputs": [],
      "source": [
        "import os\n",
        "import numpy as np\n",
        "from skimage import io\n",
        "\n",
        "#Función para invertir el LUT.\n",
        "\n",
        "def invertir_lut(imagen):\n",
        "    if np.min(imagen) >= 15 and np.max(imagen) <= 255:\n",
        "        imagen_invertida = 255 - imagen\n",
        "        return imagen_invertida\n",
        "    else:\n",
        "        return imagen  # Devuelve la imagen original si no se necesita inversión de LUT\n",
        "\n",
        "#Funcion para tener acceso a la lista de imagenes.\n",
        "\n",
        "def procesar_imagenes_en_directorio(directorio):\n",
        "    # Obtener lista de archivos en el directorio\n",
        "    archivos = os.listdir(directorio)\n",
        "\n",
        "    # Recorrer cada imagen en el directorio\n",
        "    for archivo in archivos:\n",
        "        # Verificar si es un archivo de imagen (puedes ajustar esto según el tipo de archivos que tienes)\n",
        "        if archivo.endswith('.jpg') or archivo.endswith('.png'):\n",
        "            # Cargar la imagen\n",
        "            ruta_imagen = os.path.join(directorio, archivo)\n",
        "            imagen = io.imread(ruta_imagen)\n",
        "\n",
        "            # Llamamos a  la función de invertir el LUT\n",
        "            imagen_procesada = invertir_lut(imagen)\n",
        "\n",
        "            # Guardar la imagen procesada si hay cambios\n",
        "            if not np.array_equal(imagen_procesada, imagen):\n",
        "                # Guardar la imagen procesada con el mismo nombre que tenía originalmente\n",
        "                io.imsave(ruta_imagen, imagen_procesada)\n",
        "                print(f\"Imagen '{archivo}' procesada y guardada con LUT invertido.\")\n",
        "            else:\n",
        "                print(f\"Imagen '{archivo}' no requiere inversión de LUT. Se omitió el procesamiento.\")\n",
        "\n",
        "directorio = \"ruta de nuestra carpetas de imagenes a invertir el LUT\"\n",
        "procesar_imagenes_en_directorio(directorio)"
      ]
    }
  ]
}